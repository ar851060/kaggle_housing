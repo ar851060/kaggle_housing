{
 "cells": [
  {
   "cell_type": "code",
   "execution_count": 1,
   "metadata": {},
   "outputs": [
    {
     "name": "stdout",
     "output_type": "stream",
     "text": [
      "Downloading house-prices-advanced-regression-techniques.zip to D:\\Kaggle_housing\n",
      "\n"
     ]
    },
    {
     "name": "stderr",
     "output_type": "stream",
     "text": [
      "\n",
      "  0%|          | 0.00/199k [00:00<?, ?B/s]\n",
      "100%|██████████| 199k/199k [00:00<00:00, 1.86MB/s]\n",
      "100%|██████████| 199k/199k [00:00<00:00, 1.86MB/s]\n"
     ]
    }
   ],
   "source": [
    "!kaggle competitions download -c house-prices-advanced-regression-techniques"
   ]
  },
  {
   "cell_type": "code",
   "execution_count": 2,
   "metadata": {},
   "outputs": [
    {
     "name": "stdout",
     "output_type": "stream",
     "text": [
      " 磁碟區 D 中的磁碟是 新增磁碟區\n",
      " 磁碟區序號:  A210-4097\n",
      "\n",
      " D:\\Kaggle_housing 的目錄\n",
      "\n",
      "2020/01/14  11:34    <DIR>          .\n",
      "2020/01/14  11:34    <DIR>          ..\n",
      "2020/01/14  11:34    <DIR>          .ipynb_checkpoints\n",
      "2020/01/14  11:34           203,809 house-prices-advanced-regression-techniques.zip\n",
      "2020/01/14  11:34                72 Untitled.ipynb\n",
      "               2 個檔案         203,881 位元組\n",
      "               3 個目錄  470,751,592,448 位元組可用\n"
     ]
    }
   ],
   "source": [
    "!dir"
   ]
  },
  {
   "cell_type": "code",
   "execution_count": 3,
   "metadata": {},
   "outputs": [],
   "source": [
    "from zipfile import ZipFile\n",
    "with ZipFile('house-prices-advanced-regression-techniques.zip','r') as zip_ref:\n",
    "    zip_ref.extractall()"
   ]
  },
  {
   "cell_type": "code",
   "execution_count": 4,
   "metadata": {},
   "outputs": [
    {
     "name": "stdout",
     "output_type": "stream",
     "text": [
      " 磁碟區 D 中的磁碟是 新增磁碟區\n",
      " 磁碟區序號:  A210-4097\n",
      "\n",
      " D:\\Kaggle_housing 的目錄\n",
      "\n",
      "2020/01/14  11:35    <DIR>          .\n",
      "2020/01/14  11:35    <DIR>          ..\n",
      "2020/01/14  11:34    <DIR>          .ipynb_checkpoints\n",
      "2020/01/14  11:35            13,370 data_description.txt\n",
      "2020/01/14  11:34           203,809 house-prices-advanced-regression-techniques.zip\n",
      "2020/01/14  11:35            31,939 sample_submission.csv\n",
      "2020/01/14  11:35           451,405 test.csv\n",
      "2020/01/14  11:35           460,676 train.csv\n",
      "2020/01/14  11:34                72 Untitled.ipynb\n",
      "               6 個檔案       1,161,271 位元組\n",
      "               3 個目錄  470,750,621,696 位元組可用\n"
     ]
    }
   ],
   "source": [
    "!dir"
   ]
  },
  {
   "cell_type": "code",
   "execution_count": null,
   "metadata": {},
   "outputs": [],
   "source": []
  }
 ],
 "metadata": {
  "kernelspec": {
   "display_name": "Python 3",
   "language": "python",
   "name": "python3"
  },
  "language_info": {
   "codemirror_mode": {
    "name": "ipython",
    "version": 3
   },
   "file_extension": ".py",
   "mimetype": "text/x-python",
   "name": "python",
   "nbconvert_exporter": "python",
   "pygments_lexer": "ipython3",
   "version": "3.7.4"
  }
 },
 "nbformat": 4,
 "nbformat_minor": 2
}
